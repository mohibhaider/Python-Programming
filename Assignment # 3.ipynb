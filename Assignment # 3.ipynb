{
 "cells": [
  {
   "cell_type": "markdown",
   "metadata": {},
   "source": [
    "# Assignment # 3\n"
   ]
  },
  {
   "cell_type": "code",
   "execution_count": 1,
   "metadata": {},
   "outputs": [
    {
     "name": "stdout",
     "output_type": "stream",
     "text": [
      "Enter First Value6\n",
      "Assign Operator-\n",
      "Enter Second Value2\n",
      "4 Ans\n"
     ]
    }
   ],
   "source": [
    "x = int(input(\"Enter First Value\"))\n",
    "operator = input(\"Assign Operator\")\n",
    "y = int(input(\"Enter Second Value\"))\n",
    "\n",
    "\n",
    "if (operator == '+'):\n",
    "    Value = x + y\n",
    "    print(Value ,\"Ans\")\n",
    "\n",
    "elif (operator == '-'):\n",
    "    Value = x - y\n",
    "    print(Value , \"Ans\")\n",
    "    \n",
    "elif (operator == '/'):\n",
    "    Value = x / y\n",
    "    print(Value , \"Ans\")\n",
    "    \n",
    "elif (operator == '*'):\n",
    "    Value = x * y\n",
    "    print(Value , \"Ans\")\n",
    "    \n",
    "elif (operator == '^2'):\n",
    "    Value = x ** y\n",
    "    print(Value , \"Ans\")\n",
    "    \n",
    "elif (operator == '^3'):\n",
    "    Value = x ** y\n",
    "    print(Value , \"Ans\")\n",
    "    \n",
    "else :\n",
    "    print (\"Error\")"
   ]
  },
  {
   "cell_type": "code",
   "execution_count": 2,
   "metadata": {},
   "outputs": [
    {
     "name": "stdout",
     "output_type": "stream",
     "text": [
      "25 Is Numeric Value\n"
     ]
    }
   ],
   "source": [
    "arr = [\"Mohib\",\"syed\",\"zaidi\",25,\"x\",\"y\"]\n",
    "\n",
    "for i in arr:\n",
    "    if (i==25):\n",
    "        print(i ,\"Is Numeric Value\")"
   ]
  },
  {
   "cell_type": "code",
   "execution_count": 3,
   "metadata": {},
   "outputs": [
    {
     "name": "stdout",
     "output_type": "stream",
     "text": [
      "First_name\n",
      "Last_name\n",
      "D_O_B\n",
      "Phone_No\n"
     ]
    }
   ],
   "source": [
    "student_1 = {\n",
    "    'First_name': 'Syed Mohib',\n",
    "    'Last_name': 'Hadier Zaidi',\n",
    "    'D_O_B': '11/8/2002',\n",
    "    'Phone_No': '03313520427'\n",
    "}\n",
    "\n",
    "for each_key in student_1.keys():\n",
    "    print(each_key)"
   ]
  },
  {
   "cell_type": "code",
   "execution_count": 4,
   "metadata": {},
   "outputs": [
    {
     "name": "stdout",
     "output_type": "stream",
     "text": [
      "The student's First_nameis Syed Mohib\n",
      "The student's Last_nameis Hadier Zaidi\n",
      "The student's D_O_Bis 11/8/2002\n",
      "The student's Phone_Nois 03313520427\n"
     ]
    }
   ],
   "source": [
    "student_1 = {\n",
    "    'First_name': 'Syed Mohib',\n",
    "    'Last_name': 'Hadier Zaidi',\n",
    "    'D_O_B': '11/8/2002',\n",
    "    'Phone_No': '03313520427'\n",
    "}\n",
    "\n",
    "for each_key,each_value in student_1.items():\n",
    "    print(\"The student's\"+\" \" + each_key + \"is\" +\" \" + each_value)"
   ]
  },
  {
   "cell_type": "code",
   "execution_count": 7,
   "metadata": {},
   "outputs": [
    {
     "name": "stdout",
     "output_type": "stream",
     "text": [
      "<generator object <genexpr> at 0x000000A9AF75BDC8>\n"
     ]
    }
   ],
   "source": [
    "a = [1,2,3,2,1,5,6,5,5,5]\n",
    "\n",
    "import collections\n",
    "print (item for item, count in collections.Counter(a).items() if count > 1)\n",
    "\n"
   ]
  },
  {
   "cell_type": "code",
   "execution_count": null,
   "metadata": {},
   "outputs": [],
   "source": []
  }
 ],
 "metadata": {
  "kernelspec": {
   "display_name": "Python 3",
   "language": "python",
   "name": "python3"
  },
  "language_info": {
   "codemirror_mode": {
    "name": "ipython",
    "version": 3
   },
   "file_extension": ".py",
   "mimetype": "text/x-python",
   "name": "python",
   "nbconvert_exporter": "python",
   "pygments_lexer": "ipython3",
   "version": "3.7.4"
  }
 },
 "nbformat": 4,
 "nbformat_minor": 2
}
