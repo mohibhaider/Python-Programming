{
 "cells": [
  {
   "cell_type": "markdown",
   "metadata": {},
   "source": [
    "# Assignment # 04"
   ]
  },
  {
   "cell_type": "code",
   "execution_count": 2,
   "metadata": {},
   "outputs": [
    {
     "name": "stdout",
     "output_type": "stream",
     "text": [
      "{'First_name': 'Syed Mohib', 'Last_name': 'Hadier Zaidi', 'Age': '17+', 'City': 'Karachi'}\n"
     ]
    }
   ],
   "source": [
    "# Question no. 1\n",
    "\n",
    "person_1 = {\n",
    "    \n",
    "    'First_name': 'Syed Mohib',\n",
    "    'Last_name': 'Hadier Zaidi',\n",
    "    'Age':'17+',\n",
    "    'City': 'Karachi'\n",
    "}\n",
    "\n",
    "print(person_1)\n"
   ]
  },
  {
   "cell_type": "code",
   "execution_count": 22,
   "metadata": {},
   "outputs": [
    {
     "name": "stdout",
     "output_type": "stream",
     "text": [
      "{'First_name': 'Syed Mohib', 'Last_name': 'Hadier Zaidi', 'Age': '17+', 'City': 'Karachi', 'Qualification': 'Matric'}\n"
     ]
    }
   ],
   "source": [
    "person_1 = {\n",
    "    \n",
    "    'First_name': 'Syed Mohib',\n",
    "    'Last_name': 'Hadier Zaidi',\n",
    "    'Age':'17+',\n",
    "    'City': 'Karachi'\n",
    "    \n",
    "}\n",
    "\n",
    "person_1.update({'Qualification' : 'Matric'})\n",
    "\n",
    "print(person_1)"
   ]
  },
  {
   "cell_type": "code",
   "execution_count": 30,
   "metadata": {},
   "outputs": [
    {
     "name": "stdout",
     "output_type": "stream",
     "text": [
      "{'First_name': 'Syed Mohib', 'Last_name': 'Hadier Zaidi', 'Age': '17+', 'City': 'Karachi', 'Qualification': 'Intermediate'}\n"
     ]
    }
   ],
   "source": [
    "\n",
    "\n",
    "person_1.update(Qualification = \"Intermediate\")\n",
    "\n",
    "print(person_1)"
   ]
  },
  {
   "cell_type": "code",
   "execution_count": 58,
   "metadata": {},
   "outputs": [
    {
     "data": {
      "text/plain": [
       "{'First_name': 'Syed Mohib',\n",
       " 'Last_name': 'Hadier Zaidi',\n",
       " 'Age': '17+',\n",
       " 'City': 'Karachi'}"
      ]
     },
     "execution_count": 58,
     "metadata": {},
     "output_type": "execute_result"
    }
   ],
   "source": [
    "person_1\n"
   ]
  },
  {
   "cell_type": "code",
   "execution_count": 60,
   "metadata": {},
   "outputs": [
    {
     "name": "stdout",
     "output_type": "stream",
     "text": [
      "{'Country Name': 'Pakistan', 'Approx. Population': '15 Millions', 'Fact Of Karachi': 'It is the Sixth largest city in the world by city population'}\n"
     ]
    }
   ],
   "source": [
    "#Question no. 2\n",
    "\n",
    "cities = {\n",
    "    \n",
    "    \"karachi\" : {\n",
    "        \"Country Name\" : \"Pakistan\",\n",
    "        \"Approx. Population\" : \"15 Millions\",\n",
    "        \"Fact Of Karachi\" : \"It is the Sixth largest city in the world by city population\",\n",
    "    },\n",
    "    \n",
    "    \"Mumbai\" : {\n",
    "        \n",
    "         \"Country Name\" : \"India\",\n",
    "        \"Approx. Population\" : \"12.8 Millions\",\n",
    "        \"Fact Of Karachi\" : \" Mumbai was the first one to start a bus service in India\",\n",
    "    },\n",
    "    \n",
    "    \"Istanbul\" : {\n",
    "        \n",
    "        \"Country Name\" : \"Turkey\",\n",
    "        \"Approx. Population\" : \"15.07 Millions\",\n",
    "        \"Fact Of Karachi\" : \"Istanbul is the only city in the world which is both in Europe and Asia geographicaly.\",\n",
    "    }\n",
    "    \n",
    "}\n",
    "        \n",
    "    \n",
    "print(cities[\"karachi\"])"
   ]
  },
  {
   "cell_type": "code",
   "execution_count": 62,
   "metadata": {},
   "outputs": [
    {
     "name": "stdout",
     "output_type": "stream",
     "text": [
      "{'Country Name': 'India', 'Approx. Population': '12.8 Millions', 'Fact Of Karachi': ' Mumbai was the first one to start a bus service in India'}\n"
     ]
    }
   ],
   "source": [
    "print(cities[\"Mumbai\"])"
   ]
  },
  {
   "cell_type": "code",
   "execution_count": 64,
   "metadata": {},
   "outputs": [
    {
     "name": "stdout",
     "output_type": "stream",
     "text": [
      "{'Country Name': 'Turkey', 'Approx. Population': '15.07 Millions', 'Fact Of Karachi': 'Istanbul is the only city in the world which is both in Europe and Asia geographicaly.'}\n"
     ]
    }
   ],
   "source": [
    "print(cities[\"Istanbul\"])"
   ]
  },
  {
   "cell_type": "code",
   "execution_count": 68,
   "metadata": {},
   "outputs": [
    {
     "name": "stdout",
     "output_type": "stream",
     "text": [
      "What Is You Age?12\n",
      "$10\n"
     ]
    }
   ],
   "source": [
    "# Question no. 3\n",
    "\n",
    "age =int(input(\"What Is You Age?\"))\n",
    "\n",
    "if (age<3):\n",
    "    print(\"Free Ticket\")\n",
    "    \n",
    "elif(age >= 3 or age <= 12):\n",
    "        print(\"$10\")\n",
    "        \n",
    "elif(age>= 12):\n",
    "        print(\"$15\")\n",
    "        \n",
    "else:\n",
    "        print(\"Sorry No Entry\")"
   ]
  },
  {
   "cell_type": "code",
   "execution_count": 103,
   "metadata": {},
   "outputs": [
    {
     "name": "stdout",
     "output_type": "stream",
     "text": [
      "My Favourite Book Is Alice in Wounderland\n"
     ]
    }
   ],
   "source": [
    "# Question no. 4\n",
    "\n",
    "def favourite_book(title =\"Alice in Wounderland\"):\n",
    "    print(\"My Favourite Book Is\" +\" \"+ title)\n",
    "    \n",
    "favourite_book()"
   ]
  },
  {
   "cell_type": "code",
   "execution_count": null,
   "metadata": {},
   "outputs": [
    {
     "name": "stdout",
     "output_type": "stream",
     "text": [
      "Hello! What is your name?\n"
     ]
    }
   ],
   "source": [
    "# Question no. 5\n",
    "\n",
    "import random\n",
    "\n",
    "guessesTaken = 0\n",
    "\n",
    "print('Hello! What is your name?')\n",
    "\n",
    "myName = input()\n",
    "\n",
    "number = random.randint(1, 30)\n",
    "\n",
    "print('Well, ' + myName + ', I am thinking of a number between 1 and 20.')\n",
    "\n",
    "while guessesTaken < 6:\n",
    "    \n",
    "    print('Take a guess.') \n",
    "    guess = input()\n",
    "    \n",
    "    guess = int(guess)\n",
    "    \n",
    "    guessesTaken = guessesTaken + 1\n",
    "    \n",
    "    if guess < number:\n",
    "        \n",
    "        print('Your guess is too low.') # There are eight spaces in front of print.\n",
    "        \n",
    "        if guess > number:\n",
    "            \n",
    "            print('Your guess is too high.')\n",
    "            \n",
    "        if guess == number:\n",
    "            \n",
    "            break\n",
    "                \n",
    "        if guess == number:\n",
    "            \n",
    "            guessesTaken = str(guessesTaken)\n",
    "            \n",
    "            print('Good job, ' + myName + '! You guessed my number in ' + guessesTaken + ' guesses!')\n",
    "        \n",
    "        if guess != number:\n",
    "            \n",
    "            number = str(number)\n",
    "            \n",
    "            print('Nope. The number I was thinking of was ' + number)"
   ]
  }
 ],
 "metadata": {
  "kernelspec": {
   "display_name": "Python 3",
   "language": "python",
   "name": "python3"
  },
  "language_info": {
   "codemirror_mode": {
    "name": "ipython",
    "version": 3
   },
   "file_extension": ".py",
   "mimetype": "text/x-python",
   "name": "python",
   "nbconvert_exporter": "python",
   "pygments_lexer": "ipython3",
   "version": "3.7.4"
  }
 },
 "nbformat": 4,
 "nbformat_minor": 2
}
