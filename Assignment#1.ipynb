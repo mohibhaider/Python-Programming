{
 "cells": [
  {
   "cell_type": "markdown",
   "metadata": {},
   "source": [
    "# Assignement No. 01"
   ]
  },
  {
   "cell_type": "code",
   "execution_count": 2,
   "metadata": {
    "scrolled": true
   },
   "outputs": [
    {
     "name": "stdout",
     "output_type": "stream",
     "text": [
      "Twinkle, twinkle, little star,\n",
      "\tTwinkle, twinkle, little star,\n",
      "\t\tUp above the world so high,\n",
      "\t\tLike a diamond in the sky.\n",
      "Twinkle, twinkle, little star,\n",
      "\tHow I wonder what you are\n"
     ]
    }
   ],
   "source": [
    "print(\"Twinkle, twinkle, little star,\\n\\tTwinkle, twinkle, little star,\\n\\t\\tUp above the world so high,\\n\\t\\tLike a diamond in the sky.\")\n",
    "print(\"Twinkle, twinkle, little star,\\n\\tHow I wonder what you are\")\n",
    "\n"
   ]
  },
  {
   "cell_type": "code",
   "execution_count": 3,
   "metadata": {},
   "outputs": [
    {
     "name": "stdout",
     "output_type": "stream",
     "text": [
      "3.7.4\n"
     ]
    }
   ],
   "source": [
    "from platform import python_version\n",
    "print(python_version())"
   ]
  },
  {
   "cell_type": "code",
   "execution_count": 7,
   "metadata": {},
   "outputs": [
    {
     "name": "stdout",
     "output_type": "stream",
     "text": [
      "today's date: 2019-11-02\n",
      "now =  20:34:08.561178\n"
     ]
    }
   ],
   "source": [
    "from datetime import date,datetime\n",
    "today =date.today()\n",
    "print(\"today's date:\" , today)\n",
    "time= datetime.now().time()\n",
    "print(\"now = \" , time)"
   ]
  },
  {
   "cell_type": "code",
   "execution_count": 8,
   "metadata": {},
   "outputs": [
    {
     "name": "stdout",
     "output_type": "stream",
     "text": [
      "Enter Radius67\n",
      "14102.609421964582\n"
     ]
    }
   ],
   "source": [
    "from math import pi\n",
    "radius = float(input(\"Enter Radius\"))\n",
    "area = pi * radius**2\n",
    "print(area)"
   ]
  },
  {
   "cell_type": "code",
   "execution_count": 6,
   "metadata": {},
   "outputs": [
    {
     "name": "stdout",
     "output_type": "stream",
     "text": [
      "Enter First Name\n",
      "Enter Last Name\n",
      " \n"
     ]
    }
   ],
   "source": [
    "fname = input(\"Enter First Name\")\n",
    "lname = input(\"Enter Last Name\")\n",
    "full_name = lname + \" \" + fname\n",
    "print(full_name)"
   ]
  },
  {
   "cell_type": "code",
   "execution_count": 1,
   "metadata": {},
   "outputs": [
    {
     "name": "stdout",
     "output_type": "stream",
     "text": [
      "Enter Number3\n",
      "Enter Number7\n",
      "10\n"
     ]
    }
   ],
   "source": [
    "a = int(input(\"Enter Number\"))\n",
    "b = int(input(\"Enter Number\"))\n",
    "c = a + b\n",
    "print(c)"
   ]
  },
  {
   "cell_type": "code",
   "execution_count": null,
   "metadata": {},
   "outputs": [],
   "source": []
  },
  {
   "cell_type": "code",
   "execution_count": null,
   "metadata": {},
   "outputs": [],
   "source": []
  },
  {
   "cell_type": "code",
   "execution_count": null,
   "metadata": {},
   "outputs": [],
   "source": []
  }
 ],
 "metadata": {
  "kernelspec": {
   "display_name": "Python 3",
   "language": "python",
   "name": "python3"
  },
  "language_info": {
   "codemirror_mode": {
    "name": "ipython",
    "version": 3
   },
   "file_extension": ".py",
   "mimetype": "text/x-python",
   "name": "python",
   "nbconvert_exporter": "python",
   "pygments_lexer": "ipython3",
   "version": "3.7.4"
  }
 },
 "nbformat": 4,
 "nbformat_minor": 2
}
