{
 "cells": [
  {
   "cell_type": "markdown",
   "metadata": {},
   "source": [
    "# Assignment No. 2\n"
   ]
  },
  {
   "cell_type": "code",
   "execution_count": 16,
   "metadata": {},
   "outputs": [
    {
     "name": "stdout",
     "output_type": "stream",
     "text": [
      "Subject 1st numbers: 100\n",
      "Subject 2nd numbers: 50\n",
      "Subject 3rd numbers: 100\n",
      "Subject 4th numbers: 100\n",
      "Subject 5th numbers: 50\n",
      "Grade = A\n"
     ]
    }
   ],
   "source": [
    "\n",
    "a = int(input(\"Subject 1st numbers: \"))\n",
    "b = int(input(\"Subject 2nd numbers: \"))\n",
    "c = int(input(\"Subject 3rd numbers: \"))\n",
    "d = int(input(\"Subject 4th numbers: \"))\n",
    "e = int(input(\"Subject 5th numbers: \"))\n",
    " \n",
    "Avg = (a + b + c + d + e)/5\n",
    "\n",
    "if(Avg>=90):\n",
    "    print(\"Grade = A+\")\n",
    "\n",
    "elif(Avg>=80):\n",
    "    print(\"Grade = A\")\n",
    "\n",
    "elif(Avg>=70):\n",
    "    print(\"Grade = B\")\n",
    "\n",
    "elif(Avg>=60):\n",
    "    print(\"Grade = C\")\n",
    "    \n",
    "elif(Avg>=50):\n",
    "    print(\"Grade = D\")\n",
    "\n",
    "else:\n",
    "    print(\"Grade = Fail\")"
   ]
  },
  {
   "cell_type": "code",
   "execution_count": 43,
   "metadata": {},
   "outputs": [
    {
     "name": "stdout",
     "output_type": "stream",
     "text": [
      "Write Number Here: 4\n",
      "Even Number\n"
     ]
    }
   ],
   "source": [
    "a = int(input(\"Write Number Here: \"))\n",
    "if(a/2 ,a == 0):\n",
    "    print(\"Even Number\")\n",
    "else:\n",
    "    print(\"Odd Number\")\n",
    "\n"
   ]
  },
  {
   "cell_type": "code",
   "execution_count": 56,
   "metadata": {},
   "outputs": [
    {
     "name": "stdout",
     "output_type": "stream",
     "text": [
      "Number of items in the list =  1\n"
     ]
    }
   ],
   "source": [
    "\n",
    "len_list = [\"a + b + 1 + 3 + x + z\"] \n",
    "print (\"Number of items in the list = \", len(len_list))\n",
    "\n"
   ]
  },
  {
   "cell_type": "code",
   "execution_count": 59,
   "metadata": {},
   "outputs": [
    {
     "name": "stdout",
     "output_type": "stream",
     "text": [
      "83\n"
     ]
    }
   ],
   "source": [
    "def sum(numbers):\n",
    "    total = 0\n",
    "    for x in numbers:\n",
    "        total += x\n",
    "    return total\n",
    "print(sum((8, 2, 3, 0, 70)))\n"
   ]
  },
  {
   "cell_type": "code",
   "execution_count": 65,
   "metadata": {},
   "outputs": [
    {
     "name": "stdout",
     "output_type": "stream",
     "text": [
      "4\n"
     ]
    }
   ],
   "source": [
    "def max_num_in_list (list):\n",
    "    max =list [0]\n",
    "    if a > max:\n",
    "        max = a\n",
    "    return max\n",
    "print(max_num_in_list([1, 2, 4, 0]))"
   ]
  },
  {
   "cell_type": "code",
   "execution_count": 18,
   "metadata": {},
   "outputs": [],
   "source": [
    "a = [1,1,2,3,4,8,13,21,34,55,89]\n",
    "def print_less_then_five():\n",
    "    for i in range (len(a)):\n",
    "        if a[i]<5:\n",
    "            print(a[i])"
   ]
  }
 ],
 "metadata": {
  "kernelspec": {
   "display_name": "Python 3",
   "language": "python",
   "name": "python3"
  },
  "language_info": {
   "codemirror_mode": {
    "name": "ipython",
    "version": 3
   },
   "file_extension": ".py",
   "mimetype": "text/x-python",
   "name": "python",
   "nbconvert_exporter": "python",
   "pygments_lexer": "ipython3",
   "version": "3.7.4"
  }
 },
 "nbformat": 4,
 "nbformat_minor": 2
}
