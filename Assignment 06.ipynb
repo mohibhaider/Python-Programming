{
 "cells": [
  {
   "cell_type": "markdown",
   "metadata": {},
   "source": [
    "# Assignment # 6"
   ]
  },
  {
   "cell_type": "markdown",
   "metadata": {},
   "source": [
    "#### Question No. 1\n",
    "\n",
    "Python is an object-oriented programming language. It allows us to develop applications using an Object Oriented approach. In Python, we can easily create and use classes and objects.\n",
    "\n",
    "Major principles of object-oriented programming system are given below.\n",
    "\n",
    "Object ,\n",
    "Class ,\n",
    "Method ,\n",
    "Inheritance ,\n",
    "Polymorphism ,\n",
    "Data Abstraction , \n",
    "Encapsulation"
   ]
  },
  {
   "cell_type": "markdown",
   "metadata": {},
   "source": [
    "#### Question No.2\n",
    "\n",
    "Modularity for easier troubleshooting. Something has gone wrong, and you have no idea where to look....\n",
    "Reuse of code through inheritance. ...\n",
    "Flexibility through polymorphism. ...\n",
    "Effective problem solving."
   ]
  },
  {
   "cell_type": "markdown",
   "metadata": {},
   "source": [
    "#### Question No.3\n",
    "\n",
    "Python function is a sequence of statements that execute in a certain order, given a name. They let us implement code reusability. When we talked about Python Functions, we talked about built-in and user-defined functions\n",
    "\n",
    "\n",
    "Python method is like a function, except it is attached to an object. We call a method on an object, and it possibly makes changes to that object. A method, then, belongs to a class."
   ]
  },
  {
   "cell_type": "markdown",
   "metadata": {},
   "source": [
    "#### Question No.4\n",
    "\n",
    "Class:\n",
    "The class can be defined as a collection of objects. It is a logical entity that has some specific attributes and methods. For example: if you have an employee class then it should contain an attribute and method, i.e. an email id, name, age, salary, etc.\n",
    "\n",
    "\n",
    "Object:\n",
    "The object is an entity that has state and behavior. It may be any real-world object like the mouse, keyboard, chair, table, pen, etc.\n",
    "\n",
    "\n",
    "Attribute:\n",
    "Class attributes are different from instance attributes. An attribute whose value is the same for all instances of a class is called a class attribute. The value of class attribute is shared by all objects. Class attributes are defined at class level rather than inside the constructor method __init__(). Unlike instance attributes, class attributes are accessed using the name of the class.\n",
    "\n",
    "Behavior:\n",
    "You can define as many methods as you want in a class using the def keyword. Each method must have the first parameter, generally named as self which refers to the calling instance."
   ]
  },
  {
   "cell_type": "code",
   "execution_count": 3,
   "metadata": {},
   "outputs": [],
   "source": [
    "### Question No.5\n",
    "\n",
    "class Car():\n",
    "    def __init__(self,model,color,name,no_of_doors,seating_capacity):\n",
    "        self.model = model\n",
    "        self.color = color\n",
    "        self.name = name\n",
    "        self.no_of_doors = no_of_doors\n",
    "        self.seating_capacity = seating_capacity\n",
    "        \n",
    "    def acceleration(self,speed):\n",
    "        self.speed = speed\n",
    "    \n",
    "    def brakes(self,brakes):\n",
    "        self.brakes = brakes\n",
    "        \n",
    "    def headlights(self,light):\n",
    "        self.light = light\n",
    "        \n",
    "        \n",
    "car1 = Car(2017,\"black\",\"toyota\",4,5)\n",
    "car2 = Car(2016,\"white\",\"corolla\",4,5)\n",
    "car3 = Car(2019, \"golden\",\"BMW\",2,3)\n",
    "car4 = Car(2014,\"black\",\"mehran\",4,5)\n",
    "car5 = Car(2015,\"white\",\"cultus\",4,5)"
   ]
  },
  {
   "cell_type": "code",
   "execution_count": null,
   "metadata": {},
   "outputs": [],
   "source": []
  }
 ],
 "metadata": {
  "kernelspec": {
   "display_name": "Python 3",
   "language": "python",
   "name": "python3"
  },
  "language_info": {
   "codemirror_mode": {
    "name": "ipython",
    "version": 3
   },
   "file_extension": ".py",
   "mimetype": "text/x-python",
   "name": "python",
   "nbconvert_exporter": "python",
   "pygments_lexer": "ipython3",
   "version": "3.7.4"
  }
 },
 "nbformat": 4,
 "nbformat_minor": 2
}
