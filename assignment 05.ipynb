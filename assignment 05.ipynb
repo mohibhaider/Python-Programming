{
 "cells": [
  {
   "cell_type": "markdown",
   "metadata": {},
   "source": [
    "# Assignment # 5\n"
   ]
  },
  {
   "cell_type": "code",
   "execution_count": 1,
   "metadata": {},
   "outputs": [
    {
     "name": "stdout",
     "output_type": "stream",
     "text": [
      "Input a number to compute the factiorial : 4\n",
      "24\n"
     ]
    }
   ],
   "source": [
    "#Question no.1 \n",
    "\n",
    "def factorial(num):\n",
    "    if num == 0:\n",
    "        return 1\n",
    "    else:\n",
    "        return num * factorial(num-1)\n",
    "num=int(input(\"Input a number to compute the factiorial : \"))\n",
    "print(factorial(num))\n"
   ]
  },
  {
   "cell_type": "code",
   "execution_count": 2,
   "metadata": {},
   "outputs": [
    {
     "name": "stdout",
     "output_type": "stream",
     "text": [
      "Enter any Character : D\n",
      "It is Lower Case Alphebat\n"
     ]
    }
   ],
   "source": [
    "#Question no.2\n",
    "\n",
    "char = str(input (\"Enter any Character\" + \" : \"))\n",
    "\n",
    "if (char >= \"a\" or char <=\"z\"):\n",
    "    print (\"It is Lower Case Alphebat\")\n",
    "    \n",
    "elif (char >= \"A\" or char <=\"Z\"):\n",
    "    print(\"It is Upper Case Alphebat\")\n",
    "    \n",
    "else:\n",
    "    print(\"Invalid Data\")"
   ]
  },
  {
   "cell_type": "code",
   "execution_count": 3,
   "metadata": {},
   "outputs": [
    {
     "name": "stdout",
     "output_type": "stream",
     "text": [
      "2 4 6 8 10 "
     ]
    }
   ],
   "source": [
    "# Question no.3\n",
    "\n",
    "num = [1 , 2 ,3 , 4 , 5 , 6 , 7 , 8 , 9 , 10]\n",
    "\n",
    "for Even_num in num :\n",
    "    if(Even_num % 2 == 0):\n",
    "        print(Even_num , end =\" \")"
   ]
  },
  {
   "cell_type": "code",
   "execution_count": 4,
   "metadata": {},
   "outputs": [
    {
     "name": "stdout",
     "output_type": "stream",
     "text": [
      "Enter Any Word : madam\n",
      "Yes\n"
     ]
    }
   ],
   "source": [
    "# Question no.4\n",
    "\n",
    "def reverse(s): \n",
    "    return s[::-1] \n",
    "  \n",
    "def isPalindrome(s): \n",
    "    \n",
    "    rev = reverse(s) \n",
    "  \n",
    "    \n",
    "    if (s == rev): \n",
    "        return True\n",
    "    return False\n",
    "\n",
    "s = input(\"Enter Any Word : \" )\n",
    "ans = isPalindrome(s) \n",
    "  \n",
    "if ans == 1: \n",
    "    print(\"Yes\") \n",
    "else: \n",
    "    print(\"No\") "
   ]
  },
  {
   "cell_type": "code",
   "execution_count": 16,
   "metadata": {},
   "outputs": [
    {
     "name": "stdout",
     "output_type": "stream",
     "text": [
      "True\n"
     ]
    }
   ],
   "source": [
    "# Question no.5\n",
    "\n",
    "def prime_num(num):\n",
    "    \n",
    "    if (num == 1):\n",
    "        return False\n",
    "    elif (num == 2):\n",
    "        return True;\n",
    "    else:\n",
    "        for i in range (2 , num):\n",
    "            if (num % i == 0):\n",
    "                return False\n",
    "            \n",
    "print(prime_num(2))"
   ]
  },
  {
   "cell_type": "code",
   "execution_count": 5,
   "metadata": {},
   "outputs": [
    {
     "name": "stdout",
     "output_type": "stream",
     "text": [
      "('clothes', 'Shoes', 'Watch', 'Jacket')\n"
     ]
    }
   ],
   "source": [
    "# Question no.6\n",
    "\n",
    "def shopping_list(*items):\n",
    "    print(items)\n",
    "\n",
    "shopping_list(\"clothes\" , \"Shoes\" , \"Watch\" , \"Jacket\" ) \n"
   ]
  },
  {
   "cell_type": "code",
   "execution_count": null,
   "metadata": {},
   "outputs": [],
   "source": []
  },
  {
   "cell_type": "code",
   "execution_count": null,
   "metadata": {},
   "outputs": [],
   "source": []
  }
 ],
 "metadata": {
  "kernelspec": {
   "display_name": "Python 3",
   "language": "python",
   "name": "python3"
  },
  "language_info": {
   "codemirror_mode": {
    "name": "ipython",
    "version": 3
   },
   "file_extension": ".py",
   "mimetype": "text/x-python",
   "name": "python",
   "nbconvert_exporter": "python",
   "pygments_lexer": "ipython3",
   "version": "3.7.4"
  }
 },
 "nbformat": 4,
 "nbformat_minor": 2
}
