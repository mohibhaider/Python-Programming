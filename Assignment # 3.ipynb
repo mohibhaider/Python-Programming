{
 "cells": [
  {
   "cell_type": "markdown",
   "metadata": {},
   "source": [
    "# Assignment # 3\n"
   ]
  },
  {
   "cell_type": "code",
   "execution_count": null,
   "metadata": {},
   "outputs": [],
   "source": [
    "x = int(input(\"Enter First Value\"))\n",
    "operator = input(\"Assign Operator\")\n",
    "y = int(input(\"Enter Second Value\"))\n",
    "\n",
    "\n",
    "if (operator == '+'):\n",
    "    Value = x + y\n",
    "    print(Value ,\"Ans\")\n",
    "\n",
    "elif (operator == '-'):\n",
    "    Value = x - y\n",
    "    print(Value , \"Ans\")\n",
    "    \n",
    "elif (operator == '/'):\n",
    "    Value = x / y\n",
    "    print(Value , \"Ans\")\n",
    "    \n",
    "elif (operator == '*'):\n",
    "    Value = x * y\n",
    "    print(Value , \"Ans\")\n",
    "    \n",
    "elif (operator == '^2'):\n",
    "    Value = x ** y\n",
    "    print(Value , \"Ans\")\n",
    "    \n",
    "elif (operator == '^3'):\n",
    "    Value = x ** y\n",
    "    print(Value , \"Ans\")\n",
    "    \n",
    "else :\n",
    "    print (\"Error\")"
   ]
  },
  {
   "cell_type": "code",
   "execution_count": null,
   "metadata": {},
   "outputs": [],
   "source": [
    "arr = [\"Mohib\",\"syed\",\"zaidi\",25,\"x\",\"y\"]\n",
    "\n",
    "for i in arr:\n",
    "    if (i==25):\n",
    "        print(i ,\"Is Numeric Value\")"
   ]
  },
  {
   "cell_type": "code",
   "execution_count": null,
   "metadata": {},
   "outputs": [],
   "source": [
    "student_1 = {\n",
    "    'First_name': 'Syed Mohib',\n",
    "    'Last_name': 'Hadier Zaidi',\n",
    "    'D_O_B': '11/8/2002',\n",
    "    'Phone_No': '03313520427'\n",
    "}\n",
    "\n",
    "for each_key in student_1.keys():\n",
    "    print(each_key)"
   ]
  },
  {
   "cell_type": "code",
   "execution_count": null,
   "metadata": {},
   "outputs": [],
   "source": [
    "student_1 = {\n",
    "    'First_name': 'Syed Mohib',\n",
    "    'Last_name': 'Hadier Zaidi',\n",
    "    'D_O_B': '11/8/2002',\n",
    "    'Phone_No': '03313520427'\n",
    "}\n",
    "\n",
    "for each_key,each_value in student_1.items():\n",
    "    print(\"The student's\"+\" \" + each_key + \"is\" +\" \" + each_value)"
   ]
  },
  {
   "cell_type": "code",
   "execution_count": null,
   "metadata": {},
   "outputs": [],
   "source": [
    "a = [1,2,3,2,1,5,6,5,5,5]\n",
    "\n",
    "import collections\n",
    "print [item for item, count in collections.Counter(a).items() if count > 1]\n"
   ]
  },
  {
   "cell_type": "code",
   "execution_count": null,
   "metadata": {},
   "outputs": [],
   "source": []
  }
 ],
 "metadata": {
  "kernelspec": {
   "display_name": "Python 3",
   "language": "python",
   "name": "python3"
  },
  "language_info": {
   "codemirror_mode": {
    "name": "ipython",
    "version": 3
   },
   "file_extension": ".py",
   "mimetype": "text/x-python",
   "name": "python",
   "nbconvert_exporter": "python",
   "pygments_lexer": "ipython3",
   "version": "3.7.4"
  }
 },
 "nbformat": 4,
 "nbformat_minor": 2
}
